{
  "cells": [
    {
      "cell_type": "markdown",
      "metadata": {
        "id": "bcCmx4FCnjFV"
      },
      "source": [
        "# Recommendation Systems for IBM Watson Studio platform\n",
        "\n",
        "In this project, we analyze the interactions that users have with articles on the IBM Watson Studio platform, and make recommendations to them about new articles.\n",
        "\n",
        "## Table of Contents\n",
        "\n",
        "I. [Exploratory Data Analysis](#Exploratory-Data-Analysis)<br>\n",
        "II. [Rank Based Recommendations](#Rank)<br>\n",
        "III. [User-User Based Collaborative Filtering](#User-User)<br>\n",
        "IV. [Matrix Factorization](#Matrix-Fact)<br>\n",
        "\n",
        "\n",
        "Let's get started by importing the necessary libraries and reading in the data."
      ]
    },
    {
      "cell_type": "code",
      "execution_count": null,
      "metadata": {
        "id": "XYVN4sZMnjFW"
      },
      "outputs": [],
      "source": [
        "import pandas as pd\n",
        "import numpy as np\n",
        "import matplotlib.pyplot as plt\n",
        "\n",
        "%matplotlib inline\n",
        "\n",
        "df = pd.read_csv('user-item-interactions.csv')\n",
        "df_content = pd.read_csv('articles_community.csv')\n",
        "del df['Unnamed: 0']\n",
        "del df_content['Unnamed: 0']"
      ]
    },
    {
      "cell_type": "code",
      "execution_count": 35,
      "metadata": {
        "colab": {
          "base_uri": "https://localhost:8080/",
          "height": 337
        },
        "id": "OttN3GwunjFX",
        "outputId": "9a5a26aa-9bad-4c36-c49c-72a003a8ecb3"
      },
      "outputs": [
        {
          "output_type": "execute_result",
          "data": {
            "text/html": [
              "\n",
              "  <div id=\"df-12fc31d8-0101-40cb-b136-5479ec0bb27f\">\n",
              "    <div class=\"colab-df-container\">\n",
              "      <div>\n",
              "<style scoped>\n",
              "    .dataframe tbody tr th:only-of-type {\n",
              "        vertical-align: middle;\n",
              "    }\n",
              "\n",
              "    .dataframe tbody tr th {\n",
              "        vertical-align: top;\n",
              "    }\n",
              "\n",
              "    .dataframe thead th {\n",
              "        text-align: right;\n",
              "    }\n",
              "</style>\n",
              "<table border=\"1\" class=\"dataframe\">\n",
              "  <thead>\n",
              "    <tr style=\"text-align: right;\">\n",
              "      <th></th>\n",
              "      <th>doc_body</th>\n",
              "      <th>doc_description</th>\n",
              "      <th>doc_full_name</th>\n",
              "      <th>doc_status</th>\n",
              "      <th>article_id</th>\n",
              "    </tr>\n",
              "  </thead>\n",
              "  <tbody>\n",
              "    <tr>\n",
              "      <th>0</th>\n",
              "      <td>Skip navigation Sign in SearchLoading...\\r\\n\\r...</td>\n",
              "      <td>Detect bad readings in real time using Python ...</td>\n",
              "      <td>Detect Malfunctioning IoT Sensors with Streami...</td>\n",
              "      <td>Live</td>\n",
              "      <td>0</td>\n",
              "    </tr>\n",
              "    <tr>\n",
              "      <th>1</th>\n",
              "      <td>No Free Hunch Navigation * kaggle.com\\r\\n\\r\\n ...</td>\n",
              "      <td>See the forest, see the trees. Here lies the c...</td>\n",
              "      <td>Communicating data science: A guide to present...</td>\n",
              "      <td>Live</td>\n",
              "      <td>1</td>\n",
              "    </tr>\n",
              "    <tr>\n",
              "      <th>2</th>\n",
              "      <td>☰ * Login\\r\\n * Sign Up\\r\\n\\r\\n * Learning Pat...</td>\n",
              "      <td>Here’s this week’s news in Data Science and Bi...</td>\n",
              "      <td>This Week in Data Science (April 18, 2017)</td>\n",
              "      <td>Live</td>\n",
              "      <td>2</td>\n",
              "    </tr>\n",
              "    <tr>\n",
              "      <th>3</th>\n",
              "      <td>DATALAYER: HIGH THROUGHPUT, LOW LATENCY AT SCA...</td>\n",
              "      <td>Learn how distributed DBs solve the problem of...</td>\n",
              "      <td>DataLayer Conference: Boost the performance of...</td>\n",
              "      <td>Live</td>\n",
              "      <td>3</td>\n",
              "    </tr>\n",
              "    <tr>\n",
              "      <th>4</th>\n",
              "      <td>Skip navigation Sign in SearchLoading...\\r\\n\\r...</td>\n",
              "      <td>This video demonstrates the power of IBM DataS...</td>\n",
              "      <td>Analyze NY Restaurant data using Spark in DSX</td>\n",
              "      <td>Live</td>\n",
              "      <td>4</td>\n",
              "    </tr>\n",
              "  </tbody>\n",
              "</table>\n",
              "</div>\n",
              "      <button class=\"colab-df-convert\" onclick=\"convertToInteractive('df-12fc31d8-0101-40cb-b136-5479ec0bb27f')\"\n",
              "              title=\"Convert this dataframe to an interactive table.\"\n",
              "              style=\"display:none;\">\n",
              "        \n",
              "  <svg xmlns=\"http://www.w3.org/2000/svg\" height=\"24px\"viewBox=\"0 0 24 24\"\n",
              "       width=\"24px\">\n",
              "    <path d=\"M0 0h24v24H0V0z\" fill=\"none\"/>\n",
              "    <path d=\"M18.56 5.44l.94 2.06.94-2.06 2.06-.94-2.06-.94-.94-2.06-.94 2.06-2.06.94zm-11 1L8.5 8.5l.94-2.06 2.06-.94-2.06-.94L8.5 2.5l-.94 2.06-2.06.94zm10 10l.94 2.06.94-2.06 2.06-.94-2.06-.94-.94-2.06-.94 2.06-2.06.94z\"/><path d=\"M17.41 7.96l-1.37-1.37c-.4-.4-.92-.59-1.43-.59-.52 0-1.04.2-1.43.59L10.3 9.45l-7.72 7.72c-.78.78-.78 2.05 0 2.83L4 21.41c.39.39.9.59 1.41.59.51 0 1.02-.2 1.41-.59l7.78-7.78 2.81-2.81c.8-.78.8-2.07 0-2.86zM5.41 20L4 18.59l7.72-7.72 1.47 1.35L5.41 20z\"/>\n",
              "  </svg>\n",
              "      </button>\n",
              "      \n",
              "  <style>\n",
              "    .colab-df-container {\n",
              "      display:flex;\n",
              "      flex-wrap:wrap;\n",
              "      gap: 12px;\n",
              "    }\n",
              "\n",
              "    .colab-df-convert {\n",
              "      background-color: #E8F0FE;\n",
              "      border: none;\n",
              "      border-radius: 50%;\n",
              "      cursor: pointer;\n",
              "      display: none;\n",
              "      fill: #1967D2;\n",
              "      height: 32px;\n",
              "      padding: 0 0 0 0;\n",
              "      width: 32px;\n",
              "    }\n",
              "\n",
              "    .colab-df-convert:hover {\n",
              "      background-color: #E2EBFA;\n",
              "      box-shadow: 0px 1px 2px rgba(60, 64, 67, 0.3), 0px 1px 3px 1px rgba(60, 64, 67, 0.15);\n",
              "      fill: #174EA6;\n",
              "    }\n",
              "\n",
              "    [theme=dark] .colab-df-convert {\n",
              "      background-color: #3B4455;\n",
              "      fill: #D2E3FC;\n",
              "    }\n",
              "\n",
              "    [theme=dark] .colab-df-convert:hover {\n",
              "      background-color: #434B5C;\n",
              "      box-shadow: 0px 1px 3px 1px rgba(0, 0, 0, 0.15);\n",
              "      filter: drop-shadow(0px 1px 2px rgba(0, 0, 0, 0.3));\n",
              "      fill: #FFFFFF;\n",
              "    }\n",
              "  </style>\n",
              "\n",
              "      <script>\n",
              "        const buttonEl =\n",
              "          document.querySelector('#df-12fc31d8-0101-40cb-b136-5479ec0bb27f button.colab-df-convert');\n",
              "        buttonEl.style.display =\n",
              "          google.colab.kernel.accessAllowed ? 'block' : 'none';\n",
              "\n",
              "        async function convertToInteractive(key) {\n",
              "          const element = document.querySelector('#df-12fc31d8-0101-40cb-b136-5479ec0bb27f');\n",
              "          const dataTable =\n",
              "            await google.colab.kernel.invokeFunction('convertToInteractive',\n",
              "                                                     [key], {});\n",
              "          if (!dataTable) return;\n",
              "\n",
              "          const docLinkHtml = 'Like what you see? Visit the ' +\n",
              "            '<a target=\"_blank\" href=https://colab.research.google.com/notebooks/data_table.ipynb>data table notebook</a>'\n",
              "            + ' to learn more about interactive tables.';\n",
              "          element.innerHTML = '';\n",
              "          dataTable['output_type'] = 'display_data';\n",
              "          await google.colab.output.renderOutput(dataTable, element);\n",
              "          const docLink = document.createElement('div');\n",
              "          docLink.innerHTML = docLinkHtml;\n",
              "          element.appendChild(docLink);\n",
              "        }\n",
              "      </script>\n",
              "    </div>\n",
              "  </div>\n",
              "  "
            ],
            "text/plain": [
              "                                            doc_body  ... article_id\n",
              "0  Skip navigation Sign in SearchLoading...\\r\\n\\r...  ...          0\n",
              "1  No Free Hunch Navigation * kaggle.com\\r\\n\\r\\n ...  ...          1\n",
              "2  ☰ * Login\\r\\n * Sign Up\\r\\n\\r\\n * Learning Pat...  ...          2\n",
              "3  DATALAYER: HIGH THROUGHPUT, LOW LATENCY AT SCA...  ...          3\n",
              "4  Skip navigation Sign in SearchLoading...\\r\\n\\r...  ...          4\n",
              "\n",
              "[5 rows x 5 columns]"
            ]
          },
          "metadata": {},
          "execution_count": 35
        }
      ],
      "source": [
        "# Show df_content to get an idea of the data\n",
        "df_content.head()"
      ]
    },
    {
      "cell_type": "markdown",
      "metadata": {
        "id": "Ox5AqwkjnjFX"
      },
      "source": [
        "### <a class=\"anchor\" id=\"Exploratory-Data-Analysis\">Part I : Exploratory Data Analysis</a>\n",
        "\n",
        "let's provide some insight into the descriptive statistics of the data.\n",
        "\n",
        "`1.` What is the distribution of how many articles a user interacts with in the dataset?   "
      ]
    },
    {
      "cell_type": "code",
      "execution_count": 36,
      "metadata": {
        "colab": {
          "base_uri": "https://localhost:8080/"
        },
        "id": "9fpu1HgenjFY",
        "outputId": "10dd4754-cf30-435b-d887-daad0fab19d8"
      },
      "outputs": [
        {
          "output_type": "execute_result",
          "data": {
            "text/plain": [
              "count    5148.000000\n",
              "mean        8.930847\n",
              "std        16.802267\n",
              "min         1.000000\n",
              "25%         1.000000\n",
              "50%         3.000000\n",
              "75%         9.000000\n",
              "max       364.000000\n",
              "Name: article_id, dtype: float64"
            ]
          },
          "metadata": {},
          "execution_count": 36
        }
      ],
      "source": [
        "# Descriptive statistics for user's interacts with articles\n",
        "User_interacts = df.groupby(by=\"email\").article_id.count()\n",
        "User_interacts.describe()"
      ]
    },
    {
      "cell_type": "code",
      "execution_count": 37,
      "metadata": {
        "colab": {
          "base_uri": "https://localhost:8080/",
          "height": 265
        },
        "id": "2sKaTDCqnjFY",
        "outputId": "bfb347b2-789a-4f32-c89f-1620d71845fc"
      },
      "outputs": [
        {
          "output_type": "display_data",
          "data": {
            "image/png": "[encoded data removed]",
            "text/plain": [
              "<Figure size 432x288 with 1 Axes>"
            ]
          },
          "metadata": {
            "needs_background": "light"
          }
        }
      ],
      "source": [
        "# Histogram plot for user's interaction with articles\n",
        "plt.hist(User_interacts, bins =100);"
      ]
    },
    {
      "cell_type": "markdown",
      "metadata": {
        "id": "baRA8Qd0njFY"
      },
      "source": [
        "`2.` Explore and remove duplicate articles from the **df_content** dataframe.  "
      ]
    },
    {
      "cell_type": "code",
      "execution_count": 38,
      "metadata": {
        "colab": {
          "base_uri": "https://localhost:8080/",
          "height": 581
        },
        "id": "GoTv-yxanjFY",
        "outputId": "4501d667-628b-4293-c861-a0ad41608883"
      },
      "outputs": [
        {
          "output_type": "execute_result",
          "data": {
            "text/html": [
              "\n",
              "  <div id=\"df-20284895-6cf5-4c66-928c-24b13c8fe104\">\n",
              "    <div class=\"colab-df-container\">\n",
              "      <div>\n",
              "<style scoped>\n",
              "    .dataframe tbody tr th:only-of-type {\n",
              "        vertical-align: middle;\n",
              "    }\n",
              "\n",
              "    .dataframe tbody tr th {\n",
              "        vertical-align: top;\n",
              "    }\n",
              "\n",
              "    .dataframe thead th {\n",
              "        text-align: right;\n",
              "    }\n",
              "</style>\n",
              "<table border=\"1\" class=\"dataframe\">\n",
              "  <thead>\n",
              "    <tr style=\"text-align: right;\">\n",
              "      <th></th>\n",
              "      <th>doc_body</th>\n",
              "      <th>doc_description</th>\n",
              "      <th>doc_full_name</th>\n",
              "      <th>doc_status</th>\n",
              "      <th>article_id</th>\n",
              "    </tr>\n",
              "  </thead>\n",
              "  <tbody>\n",
              "    <tr>\n",
              "      <th>50</th>\n",
              "      <td>Follow Sign in / Sign up Home About Insight Da...</td>\n",
              "      <td>Community Detection at Scale</td>\n",
              "      <td>Graph-based machine learning</td>\n",
              "      <td>Live</td>\n",
              "      <td>50</td>\n",
              "    </tr>\n",
              "    <tr>\n",
              "      <th>221</th>\n",
              "      <td>* United States\\r\\n\\r\\nIBM® * Site map\\r\\n\\r\\n...</td>\n",
              "      <td>When used to make sense of huge amounts of con...</td>\n",
              "      <td>How smart catalogs can turn the big data flood...</td>\n",
              "      <td>Live</td>\n",
              "      <td>221</td>\n",
              "    </tr>\n",
              "    <tr>\n",
              "      <th>232</th>\n",
              "      <td>Homepage Follow Sign in Get started Homepage *...</td>\n",
              "      <td>If you are like most data scientists, you are ...</td>\n",
              "      <td>Self-service data preparation with IBM Data Re...</td>\n",
              "      <td>Live</td>\n",
              "      <td>232</td>\n",
              "    </tr>\n",
              "    <tr>\n",
              "      <th>365</th>\n",
              "      <td>Follow Sign in / Sign up Home About Insight Da...</td>\n",
              "      <td>During the seven-week Insight Data Engineering...</td>\n",
              "      <td>Graph-based machine learning</td>\n",
              "      <td>Live</td>\n",
              "      <td>50</td>\n",
              "    </tr>\n",
              "    <tr>\n",
              "      <th>399</th>\n",
              "      <td>Homepage Follow Sign in Get started * Home\\r\\n...</td>\n",
              "      <td>Today’s world of data science leverages data f...</td>\n",
              "      <td>Using Apache Spark as a parallel processing fr...</td>\n",
              "      <td>Live</td>\n",
              "      <td>398</td>\n",
              "    </tr>\n",
              "    <tr>\n",
              "      <th>578</th>\n",
              "      <td>This video shows you how to construct queries ...</td>\n",
              "      <td>This video shows you how to construct queries ...</td>\n",
              "      <td>Use the Primary Index</td>\n",
              "      <td>Live</td>\n",
              "      <td>577</td>\n",
              "    </tr>\n",
              "    <tr>\n",
              "      <th>692</th>\n",
              "      <td>Homepage Follow Sign in / Sign up Homepage * H...</td>\n",
              "      <td>One of the earliest documented catalogs was co...</td>\n",
              "      <td>How smart catalogs can turn the big data flood...</td>\n",
              "      <td>Live</td>\n",
              "      <td>221</td>\n",
              "    </tr>\n",
              "    <tr>\n",
              "      <th>761</th>\n",
              "      <td>Homepage Follow Sign in Get started Homepage *...</td>\n",
              "      <td>Today’s world of data science leverages data f...</td>\n",
              "      <td>Using Apache Spark as a parallel processing fr...</td>\n",
              "      <td>Live</td>\n",
              "      <td>398</td>\n",
              "    </tr>\n",
              "    <tr>\n",
              "      <th>970</th>\n",
              "      <td>This video shows you how to construct queries ...</td>\n",
              "      <td>This video shows you how to construct queries ...</td>\n",
              "      <td>Use the Primary Index</td>\n",
              "      <td>Live</td>\n",
              "      <td>577</td>\n",
              "    </tr>\n",
              "    <tr>\n",
              "      <th>971</th>\n",
              "      <td>Homepage Follow Sign in Get started * Home\\r\\n...</td>\n",
              "      <td>If you are like most data scientists, you are ...</td>\n",
              "      <td>Self-service data preparation with IBM Data Re...</td>\n",
              "      <td>Live</td>\n",
              "      <td>232</td>\n",
              "    </tr>\n",
              "  </tbody>\n",
              "</table>\n",
              "</div>\n",
              "      <button class=\"colab-df-convert\" onclick=\"convertToInteractive('df-20284895-6cf5-4c66-928c-24b13c8fe104')\"\n",
              "              title=\"Convert this dataframe to an interactive table.\"\n",
              "              style=\"display:none;\">\n",
              "        \n",
              "  <svg xmlns=\"http://www.w3.org/2000/svg\" height=\"24px\"viewBox=\"0 0 24 24\"\n",
              "       width=\"24px\">\n",
              "    <path d=\"M0 0h24v24H0V0z\" fill=\"none\"/>\n",
              "    <path d=\"M18.56 5.44l.94 2.06.94-2.06 2.06-.94-2.06-.94-.94-2.06-.94 2.06-2.06.94zm-11 1L8.5 8.5l.94-2.06 2.06-.94-2.06-.94L8.5 2.5l-.94 2.06-2.06.94zm10 10l.94 2.06.94-2.06 2.06-.94-2.06-.94-.94-2.06-.94 2.06-2.06.94z\"/><path d=\"M17.41 7.96l-1.37-1.37c-.4-.4-.92-.59-1.43-.59-.52 0-1.04.2-1.43.59L10.3 9.45l-7.72 7.72c-.78.78-.78 2.05 0 2.83L4 21.41c.39.39.9.59 1.41.59.51 0 1.02-.2 1.41-.59l7.78-7.78 2.81-2.81c.8-.78.8-2.07 0-2.86zM5.41 20L4 18.59l7.72-7.72 1.47 1.35L5.41 20z\"/>\n",
              "  </svg>\n",
              "      </button>\n",
              "      \n",
              "  <style>\n",
              "    .colab-df-container {\n",
              "      display:flex;\n",
              "      flex-wrap:wrap;\n",
              "      gap: 12px;\n",
              "    }\n",
              "\n",
              "    .colab-df-convert {\n",
              "      background-color: #E8F0FE;\n",
              "      border: none;\n",
              "      border-radius: 50%;\n",
              "      cursor: pointer;\n",
              "      display: none;\n",
              "      fill: #1967D2;\n",
              "      height: 32px;\n",
              "      padding: 0 0 0 0;\n",
              "      width: 32px;\n",
              "    }\n",
              "\n",
              "    .colab-df-convert:hover {\n",
              "      background-color: #E2EBFA;\n",
              "      box-shadow: 0px 1px 2px rgba(60, 64, 67, 0.3), 0px 1px 3px 1px rgba(60, 64, 67, 0.15);\n",
              "      fill: #174EA6;\n",
              "    }\n",
              "\n",
              "    [theme=dark] .colab-df-convert {\n",
              "      background-color: #3B4455;\n",
              "      fill: #D2E3FC;\n",
              "    }\n",
              "\n",
              "    [theme=dark] .colab-df-convert:hover {\n",
              "      background-color: #434B5C;\n",
              "      box-shadow: 0px 1px 3px 1px rgba(0, 0, 0, 0.15);\n",
              "      filter: drop-shadow(0px 1px 2px rgba(0, 0, 0, 0.3));\n",
              "      fill: #FFFFFF;\n",
              "    }\n",
              "  </style>\n",
              "\n",
              "      <script>\n",
              "        const buttonEl =\n",
              "          document.querySelector('#df-20284895-6cf5-4c66-928c-24b13c8fe104 button.colab-df-convert');\n",
              "        buttonEl.style.display =\n",
              "          google.colab.kernel.accessAllowed ? 'block' : 'none';\n",
              "\n",
              "        async function convertToInteractive(key) {\n",
              "          const element = document.querySelector('#df-20284895-6cf5-4c66-928c-24b13c8fe104');\n",
              "          const dataTable =\n",
              "            await google.colab.kernel.invokeFunction('convertToInteractive',\n",
              "                                                     [key], {});\n",
              "          if (!dataTable) return;\n",
              "\n",
              "          const docLinkHtml = 'Like what you see? Visit the ' +\n",
              "            '<a target=\"_blank\" href=https://colab.research.google.com/notebooks/data_table.ipynb>data table notebook</a>'\n",
              "            + ' to learn more about interactive tables.';\n",
              "          element.innerHTML = '';\n",
              "          dataTable['output_type'] = 'display_data';\n",
              "          await google.colab.output.renderOutput(dataTable, element);\n",
              "          const docLink = document.createElement('div');\n",
              "          docLink.innerHTML = docLinkHtml;\n",
              "          element.appendChild(docLink);\n",
              "        }\n",
              "      </script>\n",
              "    </div>\n",
              "  </div>\n",
              "  "
            ],
            "text/plain": [
              "                                              doc_body  ... article_id\n",
              "50   Follow Sign in / Sign up Home About Insight Da...  ...         50\n",
              "221  * United States\\r\\n\\r\\nIBM® * Site map\\r\\n\\r\\n...  ...        221\n",
              "232  Homepage Follow Sign in Get started Homepage *...  ...        232\n",
              "365  Follow Sign in / Sign up Home About Insight Da...  ...         50\n",
              "399  Homepage Follow Sign in Get started * Home\\r\\n...  ...        398\n",
              "578  This video shows you how to construct queries ...  ...        577\n",
              "692  Homepage Follow Sign in / Sign up Homepage * H...  ...        221\n",
              "761  Homepage Follow Sign in Get started Homepage *...  ...        398\n",
              "970  This video shows you how to construct queries ...  ...        577\n",
              "971  Homepage Follow Sign in Get started * Home\\r\\n...  ...        232\n",
              "\n",
              "[10 rows x 5 columns]"
            ]
          },
          "metadata": {},
          "execution_count": 38
        }
      ],
      "source": [
        "# Find and explore duplicate articles\n",
        "df_content[df_content[\"article_id\"].duplicated(keep=False)]"
      ]
    },
    {
      "cell_type": "code",
      "execution_count": 39,
      "metadata": {
        "colab": {
          "base_uri": "https://localhost:8080/"
        },
        "id": "c4aF_kLsnjFY",
        "outputId": "39e53712-8ed2-4284-8ef2-34b200fb33e0"
      },
      "outputs": [
        {
          "output_type": "execute_result",
          "data": {
            "text/plain": [
              "0"
            ]
          },
          "metadata": {},
          "execution_count": 39
        }
      ],
      "source": [
        "# Remove any rows that have the same article_id; only keep the first one \n",
        "df_content_UN = df_content.drop_duplicates(subset = [\"article_id\"], keep=\"first\")\n",
        "# Check the dataset to see if there is still duplicated values\n",
        "df_content_UN[\"article_id\"].duplicated(keep=False).sum()"
      ]
    },
    {
      "cell_type": "markdown",
      "metadata": {
        "id": "MTCxgQw-njFY"
      },
      "source": [
        "`3.` Use the cells below to find:\n",
        "\n",
        "**a.** The number of unique articles that have an interaction with a user.  \n",
        "**b.** The number of unique articles in the dataset (whether they have any interactions or not).<br>\n",
        "**c.** The number of unique users in the dataset. (excluding null values) <br>\n",
        "**d.** The number of user-article interactions in the dataset."
      ]
    },
    {
      "cell_type": "code",
      "execution_count": 40,
      "metadata": {
        "colab": {
          "base_uri": "https://localhost:8080/"
        },
        "id": "55fZlAdhnjFZ",
        "outputId": "171a0fc4-01ea-4009-910d-287ea2abf0bc"
      },
      "outputs": [
        {
          "output_type": "stream",
          "name": "stdout",
          "text": [
            "unique_articles: 714\n",
            "total_articles: 1051\n",
            "unique_users: 5148\n",
            "user_article_interactions: 45993\n",
            "the most viewed article and number of reviews are as follows: \n",
            " article_id\n",
            "1429.0    937\n",
            "Name: title, dtype: int64\n"
          ]
        }
      ],
      "source": [
        "# Specify the number of unique articles that have an interaction with a user.\n",
        "print(\"unique_articles: {}\".format(df.article_id.nunique()))\n",
        "\n",
        "# Specify the number of unique articles in the dataset (whether they have any interactions or not).\n",
        "print(\"total_articles: {}\".format(df_content_UN.article_id.nunique()))\n",
        "\n",
        "# Specify the number of unique users in the dataset. (excluding null values).\n",
        "print(\"unique_users: {}\".format(df.email.nunique()))\n",
        "\n",
        "# Specify the number of user-article interactions in the dataset.\n",
        "print(\"user_article_interactions: {}\".format(df.shape[0]))\n",
        "\n",
        "# Specify the most viewed article and number of reviews in the dataset.\n",
        "most_viewed = df.groupby(by=\"article_id\").count().title.sort_values(ascending = False).head(1);\n",
        "print(\"the most viewed article and number of reviews are as follows: \\n {}\".format(most_viewed))"
      ]
    },
    {
      "cell_type": "code",
      "execution_count": 41,
      "metadata": {
        "id": "KsDPKFgFnjFa"
      },
      "outputs": [],
      "source": [
        "# Run this cell to map the user email to a user_id column and remove the email column\n",
        "def email_mapper():\n",
        "    coded_dict = dict()\n",
        "    cter = 1\n",
        "    email_encoded = []\n",
        "    \n",
        "    for val in df['email']:\n",
        "        if val not in coded_dict:\n",
        "            coded_dict[val] = cter\n",
        "            cter+=1\n",
        "        \n",
        "        email_encoded.append(coded_dict[val])\n",
        "    return email_encoded\n",
        "\n",
        "email_encoded = email_mapper()\n",
        "del df['email']\n",
        "df['user_id'] = email_encoded\n"
      ]
    },
    {
      "cell_type": "code",
      "execution_count": 42,
      "metadata": {
        "colab": {
          "base_uri": "https://localhost:8080/",
          "height": 206
        },
        "id": "1uup29rssHu5",
        "outputId": "61b10dd6-dd1a-4478-cbe7-a1c2dafecd5a"
      },
      "outputs": [
        {
          "output_type": "execute_result",
          "data": {
            "text/html": [
              "\n",
              "  <div id=\"df-4f0ff4c1-a5da-4854-9d4f-36853c88733c\">\n",
              "    <div class=\"colab-df-container\">\n",
              "      <div>\n",
              "<style scoped>\n",
              "    .dataframe tbody tr th:only-of-type {\n",
              "        vertical-align: middle;\n",
              "    }\n",
              "\n",
              "    .dataframe tbody tr th {\n",
              "        vertical-align: top;\n",
              "    }\n",
              "\n",
              "    .dataframe thead th {\n",
              "        text-align: right;\n",
              "    }\n",
              "</style>\n",
              "<table border=\"1\" class=\"dataframe\">\n",
              "  <thead>\n",
              "    <tr style=\"text-align: right;\">\n",
              "      <th></th>\n",
              "      <th>article_id</th>\n",
              "      <th>title</th>\n",
              "      <th>user_id</th>\n",
              "    </tr>\n",
              "  </thead>\n",
              "  <tbody>\n",
              "    <tr>\n",
              "      <th>0</th>\n",
              "      <td>1430.0</td>\n",
              "      <td>using pixiedust for fast, flexible, and easier...</td>\n",
              "      <td>1</td>\n",
              "    </tr>\n",
              "    <tr>\n",
              "      <th>1</th>\n",
              "      <td>1314.0</td>\n",
              "      <td>healthcare python streaming application demo</td>\n",
              "      <td>2</td>\n",
              "    </tr>\n",
              "    <tr>\n",
              "      <th>2</th>\n",
              "      <td>1429.0</td>\n",
              "      <td>use deep learning for image classification</td>\n",
              "      <td>3</td>\n",
              "    </tr>\n",
              "    <tr>\n",
              "      <th>3</th>\n",
              "      <td>1338.0</td>\n",
              "      <td>ml optimization using cognitive assistant</td>\n",
              "      <td>4</td>\n",
              "    </tr>\n",
              "    <tr>\n",
              "      <th>4</th>\n",
              "      <td>1276.0</td>\n",
              "      <td>deploy your python model as a restful api</td>\n",
              "      <td>5</td>\n",
              "    </tr>\n",
              "  </tbody>\n",
              "</table>\n",
              "</div>\n",
              "      <button class=\"colab-df-convert\" onclick=\"convertToInteractive('df-4f0ff4c1-a5da-4854-9d4f-36853c88733c')\"\n",
              "              title=\"Convert this dataframe to an interactive table.\"\n",
              "              style=\"display:none;\">\n",
              "        \n",
              "  <svg xmlns=\"http://www.w3.org/2000/svg\" height=\"24px\"viewBox=\"0 0 24 24\"\n",
              "       width=\"24px\">\n",
              "    <path d=\"M0 0h24v24H0V0z\" fill=\"none\"/>\n",
              "    <path d=\"M18.56 5.44l.94 2.06.94-2.06 2.06-.94-2.06-.94-.94-2.06-.94 2.06-2.06.94zm-11 1L8.5 8.5l.94-2.06 2.06-.94-2.06-.94L8.5 2.5l-.94 2.06-2.06.94zm10 10l.94 2.06.94-2.06 2.06-.94-2.06-.94-.94-2.06-.94 2.06-2.06.94z\"/><path d=\"M17.41 7.96l-1.37-1.37c-.4-.4-.92-.59-1.43-.59-.52 0-1.04.2-1.43.59L10.3 9.45l-7.72 7.72c-.78.78-.78 2.05 0 2.83L4 21.41c.39.39.9.59 1.41.59.51 0 1.02-.2 1.41-.59l7.78-7.78 2.81-2.81c.8-.78.8-2.07 0-2.86zM5.41 20L4 18.59l7.72-7.72 1.47 1.35L5.41 20z\"/>\n",
              "  </svg>\n",
              "      </button>\n",
              "      \n",
              "  <style>\n",
              "    .colab-df-container {\n",
              "      display:flex;\n",
              "      flex-wrap:wrap;\n",
              "      gap: 12px;\n",
              "    }\n",
              "\n",
              "    .colab-df-convert {\n",
              "      background-color: #E8F0FE;\n",
              "      border: none;\n",
              "      border-radius: 50%;\n",
              "      cursor: pointer;\n",
              "      display: none;\n",
              "      fill: #1967D2;\n",
              "      height: 32px;\n",
              "      padding: 0 0 0 0;\n",
              "      width: 32px;\n",
              "    }\n",
              "\n",
              "    .colab-df-convert:hover {\n",
              "      background-color: #E2EBFA;\n",
              "      box-shadow: 0px 1px 2px rgba(60, 64, 67, 0.3), 0px 1px 3px 1px rgba(60, 64, 67, 0.15);\n",
              "      fill: #174EA6;\n",
              "    }\n",
              "\n",
              "    [theme=dark] .colab-df-convert {\n",
              "      background-color: #3B4455;\n",
              "      fill: #D2E3FC;\n",
              "    }\n",
              "\n",
              "    [theme=dark] .colab-df-convert:hover {\n",
              "      background-color: #434B5C;\n",
              "      box-shadow: 0px 1px 3px 1px rgba(0, 0, 0, 0.15);\n",
              "      filter: drop-shadow(0px 1px 2px rgba(0, 0, 0, 0.3));\n",
              "      fill: #FFFFFF;\n",
              "    }\n",
              "  </style>\n",
              "\n",
              "      <script>\n",
              "        const buttonEl =\n",
              "          document.querySelector('#df-4f0ff4c1-a5da-4854-9d4f-36853c88733c button.colab-df-convert');\n",
              "        buttonEl.style.display =\n",
              "          google.colab.kernel.accessAllowed ? 'block' : 'none';\n",
              "\n",
              "        async function convertToInteractive(key) {\n",
              "          const element = document.querySelector('#df-4f0ff4c1-a5da-4854-9d4f-36853c88733c');\n",
              "          const dataTable =\n",
              "            await google.colab.kernel.invokeFunction('convertToInteractive',\n",
              "                                                     [key], {});\n",
              "          if (!dataTable) return;\n",
              "\n",
              "          const docLinkHtml = 'Like what you see? Visit the ' +\n",
              "            '<a target=\"_blank\" href=https://colab.research.google.com/notebooks/data_table.ipynb>data table notebook</a>'\n",
              "            + ' to learn more about interactive tables.';\n",
              "          element.innerHTML = '';\n",
              "          dataTable['output_type'] = 'display_data';\n",
              "          await google.colab.output.renderOutput(dataTable, element);\n",
              "          const docLink = document.createElement('div');\n",
              "          docLink.innerHTML = docLinkHtml;\n",
              "          element.appendChild(docLink);\n",
              "        }\n",
              "      </script>\n",
              "    </div>\n",
              "  </div>\n",
              "  "
            ],
            "text/plain": [
              "   article_id                                              title  user_id\n",
              "0      1430.0  using pixiedust for fast, flexible, and easier...        1\n",
              "1      1314.0       healthcare python streaming application demo        2\n",
              "2      1429.0         use deep learning for image classification        3\n",
              "3      1338.0          ml optimization using cognitive assistant        4\n",
              "4      1276.0          deploy your python model as a restful api        5"
            ]
          },
          "metadata": {},
          "execution_count": 42
        }
      ],
      "source": [
        "# Show df to get an idea of the data\n",
        "df.head()"
      ]
    },
    {
      "cell_type": "markdown",
      "metadata": {
        "id": "Yck8tiM6njFa"
      },
      "source": [
        "### <a class=\"anchor\" id=\"Rank\">Part II: Rank-Based Recommendations</a>\n",
        "\n",
        "In this step, we find the most popular articles based on the number of interactions. Since there are no ratings for any of the articles, we can assume the articles with the most interactions are the most popular. These are then the articles we can recommend to new users.\n"
      ]
    },
    {
      "cell_type": "code",
      "execution_count": 43,
      "metadata": {
        "colab": {
          "base_uri": "https://localhost:8080/"
        },
        "id": "BTiXXaOhnjFa",
        "outputId": "28db4f51-ccf6-4521-b833-9114c2b0803c"
      },
      "outputs": [
        {
          "output_type": "execute_result",
          "data": {
            "text/plain": [
              "use deep learning for image classification                      937\n",
              "insights from new york car accident reports                     927\n",
              "visualize car data with brunel                                  671\n",
              "use xgboost, scikit-learn & ibm watson machine learning apis    643\n",
              "predicting churn with the spss random tree algorithm            627\n",
              "Name: title, dtype: int64"
            ]
          },
          "metadata": {},
          "execution_count": 43
        }
      ],
      "source": [
        "# Return the 5 top articles ordered with most interactions. \n",
        "df.title.value_counts().sort_values(ascending=False).head()"
      ]
    },
    {
      "cell_type": "code",
      "execution_count": 44,
      "metadata": {
        "id": "2r671dvDnjFa"
      },
      "outputs": [],
      "source": [
        "def get_top_articles(n, df=df):\n",
        "    '''\n",
        "    INPUT:\n",
        "    n - (int) the number of top articles to return\n",
        "    df - (pandas dataframe) df as defined at the top of the notebook \n",
        "    \n",
        "    OUTPUT:\n",
        "    top_articles - (list) A list of the top 'n' article titles \n",
        "    \n",
        "    '''\n",
        "    top_articles = df.title.value_counts().sort_values(ascending=False).head(n).index.tolist()\n",
        "    return top_articles \n",
        "\n",
        "def get_top_article_ids(n, df=df):\n",
        "    '''\n",
        "    INPUT:\n",
        "    n - (int) the number of top articles to return\n",
        "    df - (pandas dataframe) df as defined at the top of the notebook \n",
        "    \n",
        "    OUTPUT:\n",
        "    top_article_ids - (list) A list ids for the top 'n' articles\n",
        "    \n",
        "    '''\n",
        "    top_article_ids = df.article_id.value_counts().sort_values(ascending=False).head(n).index.tolist()\n",
        "    top_article_ids = [str(x) for x in top_article_ids]\n",
        "    return top_article_ids"
      ]
    },
    {
      "cell_type": "code",
      "execution_count": 45,
      "metadata": {
        "colab": {
          "base_uri": "https://localhost:8080/"
        },
        "id": "HasBSh9HnjFb",
        "outputId": "7f62a0ba-8934-4b36-a1be-6cfbfcd824b2"
      },
      "outputs": [
        {
          "output_type": "stream",
          "name": "stdout",
          "text": [
            "['use deep learning for image classification', 'insights from new york car accident reports', 'visualize car data with brunel', 'use xgboost, scikit-learn & ibm watson machine learning apis', 'predicting churn with the spss random tree algorithm', 'healthcare python streaming application demo', 'finding optimal locations of new store using decision optimization', 'apache spark lab, part 1: basic concepts', 'analyze energy consumption in buildings', 'gosales transactions for logistic regression model']\n",
            "['1429.0', '1330.0', '1431.0', '1427.0', '1364.0', '1314.0', '1293.0', '1170.0', '1162.0', '1304.0']\n"
          ]
        }
      ],
      "source": [
        "# Print tiltes and IDs for the top 10 articles \n",
        "print(get_top_articles(10))\n",
        "print(get_top_article_ids(10))"
      ]
    },
    {
      "cell_type": "markdown",
      "metadata": {
        "id": "8K3ErHEanjFb"
      },
      "source": [
        "### <a class=\"anchor\" id=\"User-User\">Part III: User-User Based Collaborative Filtering</a>\n",
        "\n",
        "In this step, we look at users that are similar in terms of the items they have interacted with. These items will be recommended to the similar users. This would be a step in the right direction towards more personal recommendations for the users. "
      ]
    },
    {
      "cell_type": "code",
      "execution_count": 46,
      "metadata": {
        "id": "123zcqrjnjFb"
      },
      "outputs": [],
      "source": [
        "# create the user-article matrix with 1's and 0's\n",
        "def create_user_item_matrix(df):\n",
        "    '''\n",
        "    INPUT:\n",
        "    df - pandas dataframe with article_id, title, user_id columns\n",
        "    \n",
        "    OUTPUT:\n",
        "    user_item - user item matrix \n",
        "    '''\n",
        "    \n",
        "    df_subset = df[[\"user_id\", \"article_id\"]]\n",
        "    df_subset[\"count\"] = 1\n",
        "    user_item = df_subset.groupby(by=[\"user_id\", \"article_id\"])[\"count\"].mean().unstack().fillna(0)\n",
        "    return user_item \n",
        "\n",
        "user_item = create_user_item_matrix(df)"
      ]
    },
    {
      "cell_type": "markdown",
      "metadata": {
        "id": "ZK9kR478njFb"
      },
      "source": [
        "Following function takes a user_id and provide an ordered list of the most similar users to that user (from most similar to least similar).  The returned list does not contain the provided user_id, as we know that each user is similar to him/herself."
      ]
    },
    {
      "cell_type": "code",
      "execution_count": 47,
      "metadata": {
        "id": "qq28YFsUnjFb"
      },
      "outputs": [],
      "source": [
        "def find_similar_users(user_id, user_item=user_item):\n",
        "    '''\n",
        "    INPUT:\n",
        "    user_id - (int) a user_id\n",
        "    user_item - (pandas dataframe) matrix of users by articles: \n",
        "                1's when a user has interacted with an article, 0 otherwise\n",
        "    \n",
        "    OUTPUT:\n",
        "    similar_users - (list) an ordered list where the closest users (largest dot product users)\n",
        "                    are listed first\n",
        "    \n",
        "    Description:\n",
        "    Computes the similarity of every pair of users based on the dot product\n",
        "    Returns an ordered\n",
        "    '''\n",
        "    # compute similarity of each user to the provided user\n",
        "    similarity_mat = user_item.dot(user_item.transpose())\n",
        "    \n",
        "    # remove the own user's id\n",
        "    similarity_user = similarity_mat.loc[user_id,:].drop(index=user_id)\n",
        "        \n",
        "    # sort by similarity\n",
        "    similarity_user = similarity_user.sort_values(ascending=False)\n",
        "    \n",
        "    # create list of just the ids\n",
        "    most_similar_users = similarity_user.index.tolist()  \n",
        "    \n",
        "    # return a list of the users in order from most to least similar\n",
        "    return most_similar_users \n",
        "        "
      ]
    },
    {
      "cell_type": "code",
      "execution_count": 48,
      "metadata": {
        "id": "29tTYO7JnjFc",
        "outputId": "23001a38-ce18-41eb-9e8c-e3af747c6e50",
        "colab": {
          "base_uri": "https://localhost:8080/"
        }
      },
      "outputs": [
        {
          "output_type": "stream",
          "name": "stdout",
          "text": [
            "The 10 most similar users to user 1 are: [3933, 23, 3782, 203, 4459, 3870, 131, 4201, 46, 3697]\n",
            "The 5 most similar users to user 3933 are: [1, 3782, 23, 203, 4459]\n",
            "The 3 most similar users to user 46 are: [4201, 3782, 23]\n"
          ]
        }
      ],
      "source": [
        "# Do a spot check \n",
        "print(\"The 10 most similar users to user 1 are: {}\".format(find_similar_users(1)[:10]))\n",
        "print(\"The 5 most similar users to user 3933 are: {}\".format(find_similar_users(3933)[:5]))\n",
        "print(\"The 3 most similar users to user 46 are: {}\".format(find_similar_users(46)[:3]))"
      ]
    },
    {
      "cell_type": "markdown",
      "metadata": {
        "id": "1acAYEpOnjFc"
      },
      "source": [
        "Following functions return the articles we would recommend to each user."
      ]
    },
    {
      "cell_type": "code",
      "execution_count": 49,
      "metadata": {
        "id": "zNTQzEIQnjFc"
      },
      "outputs": [],
      "source": [
        "def get_article_names(article_ids, df=df):\n",
        "    '''\n",
        "    INPUT:\n",
        "    article_ids - (list) a list of article ids\n",
        "    df - (pandas dataframe) df as defined at the top of the notebook\n",
        "    \n",
        "    OUTPUT:\n",
        "    article_names - (list) a list of article names associated with the list of article ids \n",
        "                    (this is identified by the title column)\n",
        "    '''\n",
        "    # Your code here\n",
        "    df_unique = df.drop_duplicates(subset=\"title\")\n",
        "    article_names = list(df_unique[df_unique.article_id.isin(article_ids)].title)\n",
        "    \n",
        "    # Return the article names associated with list of article ids\n",
        "    return article_names \n",
        "\n",
        "def get_user_articles(user_id, user_item=user_item):\n",
        "    '''\n",
        "    INPUT:\n",
        "    user_id - (int) a user id\n",
        "    user_item - (pandas dataframe) matrix of users by articles: \n",
        "                1's when a user has interacted with an article, 0 otherwise\n",
        "    \n",
        "    OUTPUT:\n",
        "    article_ids - (list) a list of the article ids seen by the user\n",
        "    article_names - (list) a list of article names associated with the list of article ids \n",
        "                    (this is identified by the doc_full_name column in df_content)\n",
        "    \n",
        "    Description:\n",
        "    Provides a list of the article_ids and article titles that have been seen by a user\n",
        "    '''\n",
        "\n",
        "    article_ids = user_item.columns[user_item.loc[user_id,:]==1].astype('str')\n",
        "    article_names = get_article_names(article_ids)\n",
        "    \n",
        "    # return the ids and names\n",
        "    return article_ids, article_names \n",
        "    \n",
        "def user_user_recs(user_id, m=10):\n",
        "    '''\n",
        "    INPUT:\n",
        "    user_id - (int) a user id\n",
        "    m - (int) the number of recommendations you want for the user\n",
        "    \n",
        "    OUTPUT:\n",
        "    recs - (list) a list of recommendations for the user\n",
        "    \n",
        "    Description:\n",
        "    Loops through the users based on closeness to the input user_id\n",
        "    For each user - finds articles the user hasn't seen before and provides them as recs\n",
        "    Does this until m recommendations are found\n",
        "    \n",
        "    Notes:\n",
        "    Users who are the same closeness are chosen arbitrarily as the 'next' user\n",
        "    \n",
        "    For the user where the number of recommended articles starts below m \n",
        "    and ends exceeding m, the last items are chosen arbitrarily\n",
        "    \n",
        "    '''\n",
        "    recs=[]\n",
        "    list_similar_user = find_similar_users(user_id)\n",
        "    user_seen_articles = set(get_user_articles(user_id)[0])\n",
        "    for user in list_similar_user:   \n",
        "        recs+=list(set(get_user_articles(user)[0])-user_seen_articles)\n",
        "        if len(recs)>=m:\n",
        "            recs=recs[0:m]\n",
        "            break\n",
        "    \n",
        "    # return your recommendations for this user_id \n",
        "    return recs    "
      ]
    },
    {
      "cell_type": "code",
      "execution_count": 50,
      "metadata": {
        "id": "mCgkwxPXnjFc",
        "outputId": "cd2c98c9-e815-40ed-9237-696be52ff082",
        "colab": {
          "base_uri": "https://localhost:8080/"
        }
      },
      "outputs": [
        {
          "output_type": "execute_result",
          "data": {
            "text/plain": [
              "['ml optimization using cognitive assistant',\n",
              " 'analyze open data sets with pandas dataframes',\n",
              " 'intents & examples for ibm watson conversation',\n",
              " 'maximize oil company profits',\n",
              " 'pixieapp for outlier detection',\n",
              " 'how smart catalogs can turn the big data flood into an ocean of opportunity',\n",
              " 'using brunel in ipython/jupyter notebooks',\n",
              " 'fertility rate by country in total births per woman',\n",
              " 'web picks (week of 4 september 2017)',\n",
              " 'aspiring data scientists! start to learn statistics with these 6 books!']"
            ]
          },
          "metadata": {},
          "execution_count": 50
        }
      ],
      "source": [
        "# Check Results\n",
        "# Return 10 recommendations for user 1\n",
        "get_article_names(user_user_recs(1, 10)) "
      ]
    },
    {
      "cell_type": "markdown",
      "metadata": {
        "id": "hygJQRkLnjFd"
      },
      "source": [
        "Now we are going to improve the consistency of the **user_user_recs** function from above.  \n",
        "\n",
        "* Instead of arbitrarily choosing when we obtain users who are all the same closeness to a given user - choose the users that have the most total article interactions before choosing those with fewer article interactions.\n",
        "\n",
        "* Instead of arbitrarily choosing articles from the user where the number of recommended articles starts below m and ends exceeding m; we choose articles with the most total interactions before choosing those with fewer total interactions. This ranking will be obtained from the **top_articles** function we wrote earlier."
      ]
    },
    {
      "cell_type": "code",
      "execution_count": 51,
      "metadata": {
        "id": "1Wgb1gXbnjFd"
      },
      "outputs": [],
      "source": [
        "def get_top_sorted_users(user_id, df=df, user_item=user_item):\n",
        "    '''\n",
        "    INPUT:\n",
        "    user_id - (int)\n",
        "    df - (pandas dataframe) df as defined at the top of the notebook \n",
        "    user_item - (pandas dataframe) matrix of users by articles: \n",
        "            1's when a user has interacted with an article, 0 otherwise\n",
        "    \n",
        "            \n",
        "    OUTPUT:\n",
        "    neighbors_df - (pandas dataframe) a dataframe with:\n",
        "                    neighbor_id - is a neighbor user_id\n",
        "                    similarity - measure of the similarity of each user to the provided user_id\n",
        "                    num_interactions - the number of articles viewed by the user - if a u\n",
        "                    \n",
        "    Other Details - sort the neighbors_df by the similarity and then by number of interactions where \n",
        "                    highest of each is higher in the dataframe\n",
        "    '''\n",
        "    user_iduser_interaction = pd.DataFrame(df.groupby('user_id')['article_id'].count())\n",
        "    user_iduser_interaction.columns=[\"num_interactions\"]\n",
        "    \n",
        "    # compute similarity of each user to the provided user\n",
        "    similarity_mat = user_item.dot(user_item.transpose())\n",
        "    similarity_user = pd.DataFrame(similarity_mat.loc[user_id,:])\n",
        "    similarity_user.columns = [\"similarity\"]\n",
        "    similarity_user[\"num_interactions\"] = user_iduser_interaction\n",
        "    \n",
        "    # remove the own user's id\n",
        "    similarity_user.drop(index=user_id, inplace=True)\n",
        "    \n",
        "    # sort by similarity\n",
        "    neighbors_df = similarity_user.sort_values(by=[\"similarity\",\"num_interactions\"], ascending=False)    # create list of just the ids\n",
        "    \n",
        "    # Return the dataframe specified in the doc_string\n",
        "    return neighbors_df \n",
        "\n",
        "\n",
        "def user_user_recs_part2(user_id, m=10):\n",
        "    '''\n",
        "    INPUT:\n",
        "    user_id - (int) a user id\n",
        "    m - (int) the number of recommendations you want for the user\n",
        "    \n",
        "    OUTPUT:\n",
        "    recs - (list) a list of recommendations for the user by article id\n",
        "    rec_names - (list) a list of recommendations for the user by article title\n",
        "    \n",
        "    Description:\n",
        "    Loops through the users based on closeness to the input user_id\n",
        "    For each user - finds articles the user hasn't seen before and provides them as recs\n",
        "    Does this until m recommendations are found\n",
        "    \n",
        "    Notes:\n",
        "    * Choose the users that have the most total article interactions \n",
        "    before choosing those with fewer article interactions.\n",
        "\n",
        "    * Choose articles with the articles with the most total interactions \n",
        "    before choosing those with fewer total interactions. \n",
        "   \n",
        "    '''\n",
        "    seen_articles = get_user_articles(user_id, user_item)[0]\n",
        "    \n",
        "    # retrieve similar user lists\n",
        "    neighbors_df = get_top_sorted_users(user_id, df, user_item)\n",
        "    neighbors_list = neighbors_df.index.tolist()\n",
        "    \n",
        "    # loop through the users based on the closeness\n",
        "\n",
        "    recs = np.array([])\n",
        "    \n",
        "    for user in neighbors_list:\n",
        "        \n",
        "        neighbor_seen_articles = get_user_articles(user, user_item)[0]\n",
        "        \n",
        "        # find the list of articles that are not seen by the user\n",
        "        new_recs = np.setdiff1d(neighbor_seen_articles, seen_articles, assume_unique=True)\n",
        "        \n",
        "        # Update recs with new recs\n",
        "        recs = np.unique(np.concatenate([new_recs, recs], axis=0))\n",
        "        \n",
        "        # If we have enough recommendations exit the loop     \n",
        "        if len(recs) >= m:\n",
        "            break\n",
        "    \n",
        "    recs = recs[:m].tolist()\n",
        "    rec_names = get_article_names(recs, df=df)    \n",
        "    \n",
        "    return recs, rec_names\n",
        "    "
      ]
    },
    {
      "cell_type": "code",
      "execution_count": 52,
      "metadata": {
        "id": "POZsEjE1njFd",
        "outputId": "808d3756-324f-4f5c-834e-78187cb89f95",
        "colab": {
          "base_uri": "https://localhost:8080/"
        }
      },
      "outputs": [
        {
          "output_type": "stream",
          "name": "stdout",
          "text": [
            "The top 10 recommendations for user 20 are the following article ids:\n",
            "['1024.0', '1085.0', '109.0', '1150.0', '1151.0', '1152.0', '1153.0', '1154.0', '1157.0', '1160.0']\n",
            "\n",
            "The top 10 recommendations for user 20 are the following article names:\n",
            "['airbnb data for analytics: washington d.c. listings', 'analyze accident reports on amazon emr spark', 'tensorflow quick tips', 'airbnb data for analytics: venice listings', 'airbnb data for analytics: venice calendar', 'airbnb data for analytics: venice reviews', 'using deep learning to reconstruct high-resolution audio', 'airbnb data for analytics: vienna listings', 'airbnb data for analytics: vienna calendar', 'airbnb data for analytics: chicago listings']\n"
          ]
        }
      ],
      "source": [
        "# Check the output\n",
        "rec_ids, rec_names = user_user_recs_part2(20, 10)\n",
        "print(\"The top 10 recommendations for user 20 are the following article ids:\")\n",
        "print(rec_ids)\n",
        "print()\n",
        "print(\"The top 10 recommendations for user 20 are the following article names:\")\n",
        "print(rec_names)"
      ]
    },
    {
      "cell_type": "markdown",
      "metadata": {
        "id": "SdlMLlwNnjFe"
      },
      "source": [
        "### <a class=\"anchor\" id=\"Matrix-Fact\">Part IV: Matrix Factorization</a>\n",
        "\n",
        "In this part of the project, we will use matrix factorization to make article recommendations to the users.\n"
      ]
    },
    {
      "cell_type": "markdown",
      "metadata": {
        "id": "LQzUobD-njFe"
      },
      "source": [
        "We use Singular Value Decomposition from [numpy](https://docs.scipy.org/doc/numpy-1.14.0/reference/generated/numpy.linalg.svd.html) on the user-item matrix."
      ]
    },
    {
      "cell_type": "code",
      "execution_count": 56,
      "metadata": {
        "id": "ZN25VVjAnjFf"
      },
      "outputs": [],
      "source": [
        "# Calculate user item matrix\n",
        "user_item_matrix = create_user_item_matrix(df)\n",
        "\n",
        "# Perform SVD on the User-Item Matrix Here\n",
        "u, s, vt = np.linalg.svd(user_item_matrix) # use the built in to get the three matrices"
      ]
    },
    {
      "cell_type": "markdown",
      "metadata": {
        "id": "5Q7Yw3PcnjFf"
      },
      "source": [
        "We will run the following loop to get an idead about the impact of number of latent features on the accuracy."
      ]
    },
    {
      "cell_type": "code",
      "execution_count": 58,
      "metadata": {
        "id": "SvWNcyO6njFf",
        "outputId": "d5f7144e-8d7f-4678-dada-88b4c943d82d",
        "colab": {
          "base_uri": "https://localhost:8080/",
          "height": 295
        }
      },
      "outputs": [
        {
          "output_type": "display_data",
          "data": {
            "image/png": "[encoded data removed]",
            "text/plain": [
              "<Figure size 432x288 with 1 Axes>"
            ]
          },
          "metadata": {
            "needs_background": "light"
          }
        }
      ],
      "source": [
        "num_latent_feats = np.arange(10,700+10,20)\n",
        "sum_errs = []\n",
        "\n",
        "for k in num_latent_feats:\n",
        "    # restructure with k latent features\n",
        "    s_new, u_new, vt_new = np.diag(s[:k]), u[:, :k], vt[:k, :]\n",
        "    \n",
        "    # take dot product\n",
        "    user_item_est = np.around(np.dot(np.dot(u_new, s_new), vt_new))\n",
        "    \n",
        "    # compute error for each prediction to actual value\n",
        "    diffs = np.subtract(user_item_matrix, user_item_est)\n",
        "    \n",
        "    # total errors and keep track of them\n",
        "    err = np.sum(np.sum(np.abs(diffs)))\n",
        "    sum_errs.append(err)\n",
        "    \n",
        "    \n",
        "plt.plot(1 - np.array(sum_errs)/df.shape[0]);\n",
        "plt.xlabel('Number of Latent Features');\n",
        "plt.ylabel('Accuracy');\n",
        "plt.title('Accuracy vs. Number of Latent Features');"
      ]
    },
    {
      "cell_type": "markdown",
      "metadata": {
        "id": "icb74G-cnjFf"
      },
      "source": [
        "From the above, we can't really be sure how many features to use, because simply having a better way to predict the 1's and 0's of the matrix doesn't exactly give us an indication of if we are able to make good recommendations.  Instead, we might split our dataset into a training and test set of data, as shown in the cell below.  "
      ]
    },
    {
      "cell_type": "code",
      "execution_count": 60,
      "metadata": {
        "id": "jAUlU03MnjFf"
      },
      "outputs": [],
      "source": [
        "df_train = df.head(40000)\n",
        "df_test = df.tail(5993)\n",
        "\n",
        "def create_test_and_train_user_item(df_train, df_test):\n",
        "    '''\n",
        "    INPUT:\n",
        "    df_train - training dataframe\n",
        "    df_test - test dataframe\n",
        "    \n",
        "    OUTPUT:\n",
        "    user_item_train - a user-item matrix of the training dataframe \n",
        "                      (unique users for each row and unique articles for each column)\n",
        "    user_item_test - a user-item matrix of the testing dataframe \n",
        "                    (unique users for each row and unique articles for each column)\n",
        "    test_idx - all of the test user ids\n",
        "    test_arts - all of the test article ids\n",
        "    \n",
        "    '''\n",
        "    user_item_train = create_user_item_matrix(df_train)\n",
        "    user_item_test = create_user_item_matrix(df_test)\n",
        "    test_idx = user_item_test.index\n",
        "    test_arts = user_item_test.columns\n",
        "    \n",
        "    return user_item_train, user_item_test, test_idx, test_arts\n",
        "\n",
        "user_item_train, user_item_test, test_idx, test_arts = create_test_and_train_user_item(df_train, df_test)\n"
      ]
    },
    {
      "cell_type": "markdown",
      "metadata": {
        "id": "qm2BsiarnjFf"
      },
      "source": [
        "Now we use the **user_item_train** dataset to find U, S, and V transpose using SVD. Then, determine the subset of rows in the **user_item_test** dataset that can be predict using the matrix decomposition with different numbers of latent features to see how many features makes sense to be keept based on the accuracy on the test data. "
      ]
    },
    {
      "cell_type": "code",
      "execution_count": 65,
      "metadata": {
        "id": "EKnR-v5VnjFf",
        "colab": {
          "base_uri": "https://localhost:8080/",
          "height": 279
        },
        "outputId": "f46ae326-db23-4b5d-9ed3-91595db411c3"
      },
      "outputs": [
        {
          "output_type": "display_data",
          "data": {
            "image/png": "[encoded data removed]",
            "text/plain": [
              "<Figure size 432x288 with 1 Axes>"
            ]
          },
          "metadata": {
            "needs_background": "light"
          }
        }
      ],
      "source": [
        "# fit SVD on the user_item_train matrix\n",
        "u_train, s_train, vt_train = np.linalg.svd(user_item_train)\n",
        "\n",
        "# Use these cells to see how well you can use the training \n",
        "# decomposition to predict on test data\n",
        "test_rows = user_item_train.index.isin(test_idx)\n",
        "test_columns = user_item_train.columns.isin(test_arts)\n",
        "u_test = u_train[test_rows,:]\n",
        "vt_test = vt_train[:,test_columns]\n",
        "\n",
        "# Predict user_item_train and user_item_test using this matrix decomposition \n",
        "# with different numbers of latent features\n",
        "train_error_list = []\n",
        "test_error_list = []\n",
        "for k in range(len(s_train)):\n",
        "    \n",
        "    # Reshape the matrix based on the num of latent features\n",
        "    u_train_new, s_train_new, vt_train_new = u_train[:, :k], np.diag(s_train[:k]), vt_train[:k,:]\n",
        "    u_test_new, vt_test_new = u_test[:,:k], vt_test[:k, :]\n",
        "    \n",
        "    # Calculate the dot product\n",
        "    estimated_user_item_train = np.round(np.dot(np.dot(u_train_new,s_train_new,),vt_train_new))\n",
        "    estimated_user_item_test = np.round(np.dot(np.dot(u_test_new,s_train_new),vt_test_new))\n",
        "    \n",
        "    # Calculate the prediction error\n",
        "    train_error = np.sum(np.sum(np.abs(np.subtract(user_item_train, estimated_user_item_train))))\n",
        "    test_error = np.sum(np.sum(np.abs(np.subtract(user_item_test.loc[user_item_test.index[test_idx.isin(user_item_train.index)]], estimated_user_item_test))))\n",
        "    \n",
        "    # Append the calculate error to their respective lists\n",
        "    train_error_list.append(train_error)\n",
        "    test_error_list.append(test_error)\n",
        "\n",
        "# Visualize the train and test error change with respect to num of latent features.\n",
        "plt.plot(1 - np.array(train_error_list)/(user_item_train.shape[0]*user_item_train.shape[1]),label='Train');\n",
        "plt.plot(1 - np.array(test_error_list)/(len(test_rows)*len(test_columns)),label='Test');\n",
        "plt.legend()\n",
        "plt.ylabel(\"Accuracy\")\n",
        "plt.xlabel(\"Num of Latent Features\");\n"
      ]
    },
    {
      "cell_type": "markdown",
      "metadata": {
        "id": "pkKeqCMLnjFg"
      },
      "source": [
        "The results show that by increasing the number of latent features, the accuracy of the prediction for the train set is increasing while the test accuracy is being reduced. This issue can be a result of having a few users in the test set who have recorded activities in the train set. Moreover, for the majority of the users in the test set, we could not implement collaborative filtering due to the cold start problem. So, for the newer users, we may implement rank-based or knowledge-based recommendation systems. \n",
        "Matrix factorization provides us with offline testing; however, sometimes this method is not applicable due to new users or contents. A practical approach for testing all introduced recommendation systems in this project can be A/B testing. we may implement the recommendation systems online and get feedback from users to determine whether the implemented recommendation system is helpful for the users or not."
      ]
    }
  ],
  "metadata": {
    "colab": {
      "collapsed_sections": [],
      "name": "Recommendations_with_IBM.ipynb",
      "provenance": []
    },
    "kernelspec": {
      "display_name": "Python 3",
      "language": "python",
      "name": "python3"
    },
    "language_info": {
      "codemirror_mode": {
        "name": "ipython",
        "version": 3
      },
      "file_extension": ".py",
      "mimetype": "text/x-python",
      "name": "python",
      "nbconvert_exporter": "python",
      "pygments_lexer": "ipython3",
      "version": "3.6.3"
    }
  },
  "nbformat": 4,
  "nbformat_minor": 0
}